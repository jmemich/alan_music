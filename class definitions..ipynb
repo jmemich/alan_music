{
 "metadata": {
  "name": "",
  "signature": "sha256:82abd44e1fa8c24425ddeb5cb4a73b25e97993b017ad3b253534f15ea40514f2"
 },
 "nbformat": 3,
 "nbformat_minor": 0,
 "worksheets": [
  {
   "cells": [
    {
     "cell_type": "code",
     "collapsed": false,
     "input": [
      "import os\n",
      "import hashlib\n",
      "from mutagen.easyid3 import EasyID3\n",
      "\n",
      "\n",
      "\n",
      "class Song(object):\n",
      "    \"\"\" create Song object from file path.\n",
      "    \"\"\"\n",
      "    \n",
      "    def __init__(self, path = ''):\n",
      "        self.path = path\n",
      "        \n",
      "    def __str__(self):\n",
      "        return str(self.get_metadata()['title'])\n",
      "        \n",
      "    def get_md5(self):\n",
      "        con = open(self.path, 'rb')\n",
      "        return hashlib.md5(con.read()).hexdigest()\n",
      "    \n",
      "    def get_metadata(self):\n",
      "        return EasyID3(self.path)\n",
      "    \n",
      "    def keys_num(self):\n",
      "        return len(self.get_metadata().keys())\n",
      "\n",
      "    \n",
      "    \n",
      "class Library(object):\n",
      "    \"\"\"Creates a song library.\n",
      "    \"\"\"\n",
      "     \n",
      "    def __init__(self, song = None):\n",
      "        self.songs = dict()\n",
      "        \n",
      "    def __str__(self):\n",
      "        return 'Song Library has %i song(s)' % len(self.songs.keys()) \n",
      "        \n",
      "    def add_song(self, Song):\n",
      "        \"\"\"NOTE: potentially problematic if two songs have same md5\n",
      "        data! Will overwrite 1st!?\n",
      "        \"\"\"\n",
      "        \n",
      "        self.songs.update( {Song.get_md5() : Song.get_metadata()} )\n",
      "\n",
      "        \n",
      "\n",
      "def file_search(filepath, results_list = []):\n",
      "    \"\"\" recursive function to list all files in all subfolders.\n",
      "    Note list creation as argument in function!\n",
      "    \"\"\"\n",
      "    \n",
      "    # loop over each item in directory\n",
      "    for item in os.listdir(filepath):\n",
      "        \n",
      "        path = os.path.join(filepath, item)\n",
      "\n",
      "        if os.path.isfile(path):\n",
      "            results_list.append(path)\n",
      "        else:\n",
      "            file_search(path) ## recursive call\n",
      "\n",
      "    return results_list\n"
     ],
     "language": "python",
     "metadata": {},
     "outputs": [],
     "prompt_number": 7
    },
    {
     "cell_type": "code",
     "collapsed": false,
     "input": [
      "song_list = file_search(\"C:\\\\Users\\\\User\\\\Desktop\\\\music_test\\\\Air\")"
     ],
     "language": "python",
     "metadata": {},
     "outputs": [],
     "prompt_number": 8
    },
    {
     "cell_type": "code",
     "collapsed": false,
     "input": [
      "song_list"
     ],
     "language": "python",
     "metadata": {},
     "outputs": [
      {
       "metadata": {},
       "output_type": "pyout",
       "prompt_number": 9,
       "text": [
        "['C:\\\\Users\\\\User\\\\Desktop\\\\music_test\\\\Air\\\\Moon Safari\\\\02 Sexy Boy.mp3',\n",
        " 'C:\\\\Users\\\\User\\\\Desktop\\\\music_test\\\\Air\\\\Moon Safari\\\\All I Need.mp3',\n",
        " 'C:\\\\Users\\\\User\\\\Desktop\\\\music_test\\\\Air\\\\Moon Safari\\\\Kelly Watch The Stars.mp3',\n",
        " 'C:\\\\Users\\\\User\\\\Desktop\\\\music_test\\\\Air\\\\Pocket Symphony\\\\01 Space Maker.mp3',\n",
        " 'C:\\\\Users\\\\User\\\\Desktop\\\\music_test\\\\Air\\\\Pocket Symphony\\\\02 Once Upon a Time.mp3',\n",
        " 'C:\\\\Users\\\\User\\\\Desktop\\\\music_test\\\\Air\\\\Pocket Symphony\\\\03 One Hell of a Party.mp3',\n",
        " 'C:\\\\Users\\\\User\\\\Desktop\\\\music_test\\\\Air\\\\Pocket Symphony\\\\04 Napalm Love.mp3',\n",
        " 'C:\\\\Users\\\\User\\\\Desktop\\\\music_test\\\\Air\\\\Pocket Symphony\\\\05 Mayfair Song.mp3',\n",
        " 'C:\\\\Users\\\\User\\\\Desktop\\\\music_test\\\\Air\\\\Pocket Symphony\\\\06 Left Bank.mp3',\n",
        " 'C:\\\\Users\\\\User\\\\Desktop\\\\music_test\\\\Air\\\\Pocket Symphony\\\\07 Photograph.mp3',\n",
        " 'C:\\\\Users\\\\User\\\\Desktop\\\\music_test\\\\Air\\\\Pocket Symphony\\\\08 Mer du Japon.mp3',\n",
        " 'C:\\\\Users\\\\User\\\\Desktop\\\\music_test\\\\Air\\\\Pocket Symphony\\\\09 Lost Message.mp3',\n",
        " 'C:\\\\Users\\\\User\\\\Desktop\\\\music_test\\\\Air\\\\Pocket Symphony\\\\10 Somewhere Between Waking and Slee.mp3',\n",
        " 'C:\\\\Users\\\\User\\\\Desktop\\\\music_test\\\\Air\\\\Pocket Symphony\\\\11 Redhead Girl.mp3',\n",
        " 'C:\\\\Users\\\\User\\\\Desktop\\\\music_test\\\\Air\\\\Pocket Symphony\\\\12 Night Sight.mp3',\n",
        " 'C:\\\\Users\\\\User\\\\Desktop\\\\music_test\\\\Air\\\\Premiers Symptomes\\\\Le Soleil Est Pres De Moi.mp3',\n",
        " 'C:\\\\Users\\\\User\\\\Desktop\\\\music_test\\\\Air\\\\Talkie Walkie\\\\02 Cherry Blossom Girl.mp3',\n",
        " 'C:\\\\Users\\\\User\\\\Desktop\\\\music_test\\\\Air\\\\Talkie Walkie\\\\08 Alpha Beta Gaga.mp3',\n",
        " 'C:\\\\Users\\\\User\\\\Desktop\\\\music_test\\\\Air\\\\The Virgin Suicides\\\\Playground Love.mp3']"
       ]
      }
     ],
     "prompt_number": 9
    },
    {
     "cell_type": "code",
     "collapsed": false,
     "input": [
      "for i in song_list:\n",
      "    print Song(i)"
     ],
     "language": "python",
     "metadata": {},
     "outputs": [
      {
       "output_type": "stream",
       "stream": "stdout",
       "text": [
        "[u'Sexy Boy']\n",
        "[u'All I Need']"
       ]
      },
      {
       "output_type": "stream",
       "stream": "stdout",
       "text": [
        "\n",
        "[u'Kelly Watch The Stars']"
       ]
      },
      {
       "output_type": "stream",
       "stream": "stdout",
       "text": [
        "\n",
        "[u'Space Maker']\n",
        "[u'Once Upon a Time']\n",
        "[u'One Hell of a Party']\n",
        "[u'Napalm Love']\n",
        "[u'Mayfair Song']\n",
        "[u'Left Bank']"
       ]
      },
      {
       "output_type": "stream",
       "stream": "stdout",
       "text": [
        "\n",
        "[u'Photograph']\n",
        "[u'Mer du Japon']\n",
        "[u'Lost Message']\n",
        "[u'Somewhere Between Waking and Sleeping']\n",
        "[u'Redhead Girl']\n",
        "[u'Night Sight']\n"
       ]
      },
      {
       "output_type": "stream",
       "stream": "stdout",
       "text": [
        "[u'Le Soleil Est Pres De Moi']\n",
        "[u'Cherry Blossom Girl']\n",
        "[u'Alpha Beta Gaga']\n",
        "[u'Playground Love', u'', u'', u'', u'', u'', u'', u'', u'', u'', u'', u'', u'', u'', u'']\n"
       ]
      }
     ],
     "prompt_number": 11
    },
    {
     "cell_type": "code",
     "collapsed": false,
     "input": [
      "lib = Library()"
     ],
     "language": "python",
     "metadata": {},
     "outputs": [],
     "prompt_number": 12
    },
    {
     "cell_type": "code",
     "collapsed": false,
     "input": [
      "for i in song_list:\n",
      "    lib.add_song( Song(i) )"
     ],
     "language": "python",
     "metadata": {},
     "outputs": [],
     "prompt_number": 13
    },
    {
     "cell_type": "code",
     "collapsed": false,
     "input": [
      "print lib"
     ],
     "language": "python",
     "metadata": {},
     "outputs": [
      {
       "output_type": "stream",
       "stream": "stdout",
       "text": [
        "Song Library has 19 song(s)\n"
       ]
      }
     ],
     "prompt_number": 15
    },
    {
     "cell_type": "code",
     "collapsed": false,
     "input": [
      "lib.songs"
     ],
     "language": "python",
     "metadata": {},
     "outputs": [
      {
       "metadata": {},
       "output_type": "pyout",
       "prompt_number": 16,
       "text": [
        "{'085e3bddb6acbcbfe0d50f18250e8a37': {'album': [u'Premiers Symptomes'], 'genre': [u'Electronic'], 'title': [u'Le Soleil Est Pres De Moi'], 'artist': [u'Air']},\n",
        " '112ccd1c3df32a907fb033f596261d49': {'album': [u'Pocket Symphony'], 'performer': [u'Air'], 'artist': [u'Air'], 'title': [u'Once Upon a Time'], 'genre': [u'Electronic'], 'date': [u'2007'], 'tracknumber': [u'2/12'], 'discnumber': [u'1/1']},\n",
        " '225f602c0db814b0a0bded97c312011a': {'date': [u'1998'], 'album': [u'Moon Safari'], 'title': [u'Kelly Watch The Stars'], 'genre': [u'Electronic'], 'artist': [u'Air']},\n",
        " '2b9877725147f5c9c7e343c10693e122': {'album': [u'Pocket Symphony'], 'performer': [u'Air'], 'artist': [u'Air'], 'title': [u'Mayfair Song'], 'genre': [u'Electronic'], 'date': [u'2007'], 'tracknumber': [u'5/12'], 'discnumber': [u'1/1']},\n",
        " '2dab4e9cb504f44103f7fc6f46a5d361': {'album': [u'Pocket Symphony'], 'performer': [u'Air'], 'artist': [u'Air'], 'title': [u'One Hell of a Party'], 'genre': [u'Electronic'], 'date': [u'2007'], 'tracknumber': [u'3/12'], 'discnumber': [u'1/1']},\n",
        " '4875e29501e80ffa5c71c38d9a2b1418': {'date': [u'0025-00'], 'album': [u'Moon Safari'], 'title': [u'All I Need'], 'genre': [u'Electronic'], 'artist': [u'Air']},\n",
        " '571e1bdf62461d137690064e763328e7': {'album': [u'Talkie Walkie'], 'title': [u'Alpha Beta Gaga'], 'artist': [u'Air'], 'genre': [u'Electronic'], 'date': [u'2004'], 'tracknumber': [u'8']},\n",
        " '6fbcf12b56d5c9e3d0b53575ce590a80': {'album': [u'Pocket Symphony'], 'performer': [u'Air'], 'artist': [u'Air'], 'title': [u'Space Maker'], 'genre': [u'Electronic'], 'date': [u'2007'], 'tracknumber': [u'1/12'], 'discnumber': [u'1/1']},\n",
        " '732535a7fe535fa4dd51c8f5abca1186': {'album': [u'Pocket Symphony'], 'performer': [u'Air'], 'artist': [u'Air'], 'title': [u'Napalm Love'], 'genre': [u'Electronic'], 'date': [u'2007'], 'tracknumber': [u'4/12'], 'discnumber': [u'1/1']},\n",
        " '7419735f0d848c310dfa8455d3b5c7ad': {'album': [u'Talkie Walkie'], 'performer': [u'Air'], 'artist': [u'Air'], 'title': [u'Cherry Blossom Girl'], 'genre': [u'Electronic'], 'composer': [u'Jean-Beno\\xeet Dunckel/Nicolas Godin'], 'organization': [u'Astralwerks'], 'date': [u'2004'], 'tracknumber': [u'2']},\n",
        " '835a77b3bb0b85481ce8b7cf2be62a20': {'album': [u'Pocket Symphony'], 'performer': [u'Air'], 'artist': [u'Air'], 'title': [u'Lost Message'], 'genre': [u'Electronic'], 'date': [u'2007'], 'tracknumber': [u'9/12'], 'discnumber': [u'1/1']},\n",
        " 'a8633e7663ed2137b89d0f9b0d85152c': {'album': [u'Pocket Symphony'], 'performer': [u'Air'], 'artist': [u'Air'], 'title': [u'Night Sight'], 'genre': [u'Electronic'], 'date': [u'2007'], 'tracknumber': [u'12/12'], 'discnumber': [u'1/1']},\n",
        " 'c05184ae3316e49bfe2be0eb7a1e268a': {'album': [u'Pocket Symphony'], 'performer': [u'Air'], 'artist': [u'Air'], 'title': [u'Somewhere Between Waking and Sleeping'], 'genre': [u'Electronic'], 'date': [u'2007'], 'tracknumber': [u'10/12'], 'discnumber': [u'1/1']},\n",
        " 'dc72e2592f60f96e449b78b2039a653a': {'album': [u'Pocket Symphony'], 'performer': [u'Air'], 'artist': [u'Air'], 'title': [u'Mer du Japon'], 'genre': [u'Electronic'], 'date': [u'2007'], 'tracknumber': [u'8/12'], 'discnumber': [u'1/1']},\n",
        " 'dd5ba84dd5f560d447ee5e5afff34af2': {'album': [u'Moon Safari'], 'performer': [u'Air'], 'artist': [u'Air'], 'title': [u'Sexy Boy'], 'genre': [u'Electronic'], 'composer': [u'Jean-Beno\\xeet Dunckel/Nicolas Godin'], 'organization': [u'Astralwerks'], 'date': [u'1998'], 'tracknumber': [u'2']},\n",
        " 'e4add95742dcdedc2615e48403c3a67b': {'album': [u'Pocket Symphony'], 'performer': [u'Air'], 'artist': [u'Air'], 'title': [u'Photograph'], 'genre': [u'Electronic'], 'date': [u'2007'], 'tracknumber': [u'7/12'], 'discnumber': [u'1/1']},\n",
        " 'ee7a563bc932a607ba094e118de3b8cb': {'date': [u'2000'], 'album': [u'The Virgin Suicides', u'', u'', u'', u'', u'', u'', u'', u'', u'', u''], 'title': [u'Playground Love', u'', u'', u'', u'', u'', u'', u'', u'', u'', u'', u'', u'', u'', u''], 'genre': [u'Electronic'], 'artist': [u'Air', u'', u'', u'', u'', u'', u'', u'', u'', u'', u'', u'', u'', u'', u'', u'', u'', u'', u'', u'', u'', u'', u'', u'', u'', u'', u'']},\n",
        " 'f6cd5d2f9b52ed142e14f0143552626d': {'album': [u'Pocket Symphony'], 'performer': [u'Air'], 'artist': [u'Air'], 'title': [u'Left Bank'], 'genre': [u'Electronic'], 'date': [u'2007'], 'tracknumber': [u'6/12'], 'discnumber': [u'1/1']},\n",
        " 'fc962ef7f5294c68570568e4e2bd0fd5': {'album': [u'Pocket Symphony'], 'performer': [u'Air'], 'artist': [u'Air'], 'title': [u'Redhead Girl'], 'genre': [u'Electronic'], 'date': [u'2007'], 'tracknumber': [u'11/12'], 'discnumber': [u'1/1']}}"
       ]
      }
     ],
     "prompt_number": 16
    },
    {
     "cell_type": "code",
     "collapsed": false,
     "input": [],
     "language": "python",
     "metadata": {},
     "outputs": []
    }
   ],
   "metadata": {}
  }
 ]
}